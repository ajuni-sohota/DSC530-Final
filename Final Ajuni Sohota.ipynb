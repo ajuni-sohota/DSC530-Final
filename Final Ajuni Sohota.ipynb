{
 "cells": [
  {
   "cell_type": "markdown",
   "metadata": {},
   "source": [
    "# Final Project Covid Data\n",
    "## Ajuni Sohota"
   ]
  },
  {
   "cell_type": "code",
   "execution_count": 84,
   "metadata": {},
   "outputs": [],
   "source": [
    "from os import chdir\n",
    "from glob import glob\n",
    "import pandas as pd\n",
    "from functools import reduce\n",
    "import matplotlib.pyplot as plt\n",
    "import seaborn as sns\n",
    "import thinkplot\n",
    "\n",
    "\n",
    "import thinkplot\n",
    "import thinkstats2\n",
    "import numpy as np\n",
    "import pandas as pd\n",
    "import seaborn as sb\n",
    "import statsmodels.formula.api as smf\n",
    "import statsmodels.api as sm\n",
    "\n",
    "from scipy.stats import norm\n",
    "from matplotlib import pyplot as plt\n",
    "from thinkstats2 import Mean, MeanVar, Var, Std, Cov\n"
   ]
  },
  {
   "cell_type": "code",
   "execution_count": 210,
   "metadata": {},
   "outputs": [
    {
     "data": {
      "text/html": [
       "<div>\n",
       "<style scoped>\n",
       "    .dataframe tbody tr th:only-of-type {\n",
       "        vertical-align: middle;\n",
       "    }\n",
       "\n",
       "    .dataframe tbody tr th {\n",
       "        vertical-align: top;\n",
       "    }\n",
       "\n",
       "    .dataframe thead th {\n",
       "        text-align: right;\n",
       "    }\n",
       "</style>\n",
       "<table border=\"1\" class=\"dataframe\">\n",
       "  <thead>\n",
       "    <tr style=\"text-align: right;\">\n",
       "      <th></th>\n",
       "      <th>Date</th>\n",
       "      <th>State</th>\n",
       "      <th>CovidPos</th>\n",
       "      <th>CovidNeg</th>\n",
       "      <th>Pending</th>\n",
       "      <th>In Hospital</th>\n",
       "      <th>CumulativeHospitalized</th>\n",
       "      <th>IncluCur</th>\n",
       "      <th>IncluCum</th>\n",
       "      <th>OnVent</th>\n",
       "      <th>...</th>\n",
       "      <th>Hospitalized</th>\n",
       "      <th>Total</th>\n",
       "      <th>TotalTestResults</th>\n",
       "      <th>PosNeg</th>\n",
       "      <th>Fips</th>\n",
       "      <th>DeathsIncreasedBy</th>\n",
       "      <th>HospitalizedIncreasedBy</th>\n",
       "      <th>NegativeIncreasedBy</th>\n",
       "      <th>PositiveIncreasedBy</th>\n",
       "      <th>TotalTestResultsIncreasedBy</th>\n",
       "    </tr>\n",
       "  </thead>\n",
       "  <tbody>\n",
       "    <tr>\n",
       "      <th>0</th>\n",
       "      <td>20200503</td>\n",
       "      <td>AK</td>\n",
       "      <td>368.0</td>\n",
       "      <td>21210.0</td>\n",
       "      <td>NaN</td>\n",
       "      <td>12.0</td>\n",
       "      <td>NaN</td>\n",
       "      <td>NaN</td>\n",
       "      <td>NaN</td>\n",
       "      <td>NaN</td>\n",
       "      <td>...</td>\n",
       "      <td>NaN</td>\n",
       "      <td>21578.0</td>\n",
       "      <td>21578.0</td>\n",
       "      <td>21578.0</td>\n",
       "      <td>2</td>\n",
       "      <td>0.0</td>\n",
       "      <td>0.0</td>\n",
       "      <td>176.0</td>\n",
       "      <td>3.0</td>\n",
       "      <td>179.0</td>\n",
       "    </tr>\n",
       "    <tr>\n",
       "      <th>1</th>\n",
       "      <td>20200503</td>\n",
       "      <td>AL</td>\n",
       "      <td>7725.0</td>\n",
       "      <td>84775.0</td>\n",
       "      <td>NaN</td>\n",
       "      <td>NaN</td>\n",
       "      <td>1035.0</td>\n",
       "      <td>NaN</td>\n",
       "      <td>403.0</td>\n",
       "      <td>NaN</td>\n",
       "      <td>...</td>\n",
       "      <td>1035.0</td>\n",
       "      <td>92500.0</td>\n",
       "      <td>92500.0</td>\n",
       "      <td>92500.0</td>\n",
       "      <td>1</td>\n",
       "      <td>2.0</td>\n",
       "      <td>12.0</td>\n",
       "      <td>0.0</td>\n",
       "      <td>291.0</td>\n",
       "      <td>291.0</td>\n",
       "    </tr>\n",
       "    <tr>\n",
       "      <th>2</th>\n",
       "      <td>20200503</td>\n",
       "      <td>AR</td>\n",
       "      <td>3431.0</td>\n",
       "      <td>49459.0</td>\n",
       "      <td>NaN</td>\n",
       "      <td>100.0</td>\n",
       "      <td>427.0</td>\n",
       "      <td>NaN</td>\n",
       "      <td>NaN</td>\n",
       "      <td>20.0</td>\n",
       "      <td>...</td>\n",
       "      <td>427.0</td>\n",
       "      <td>52890.0</td>\n",
       "      <td>52890.0</td>\n",
       "      <td>52890.0</td>\n",
       "      <td>5</td>\n",
       "      <td>3.0</td>\n",
       "      <td>13.0</td>\n",
       "      <td>1249.0</td>\n",
       "      <td>59.0</td>\n",
       "      <td>1308.0</td>\n",
       "    </tr>\n",
       "    <tr>\n",
       "      <th>3</th>\n",
       "      <td>20200503</td>\n",
       "      <td>AS</td>\n",
       "      <td>0.0</td>\n",
       "      <td>57.0</td>\n",
       "      <td>NaN</td>\n",
       "      <td>NaN</td>\n",
       "      <td>NaN</td>\n",
       "      <td>NaN</td>\n",
       "      <td>NaN</td>\n",
       "      <td>NaN</td>\n",
       "      <td>...</td>\n",
       "      <td>NaN</td>\n",
       "      <td>57.0</td>\n",
       "      <td>57.0</td>\n",
       "      <td>57.0</td>\n",
       "      <td>60</td>\n",
       "      <td>0.0</td>\n",
       "      <td>0.0</td>\n",
       "      <td>0.0</td>\n",
       "      <td>0.0</td>\n",
       "      <td>0.0</td>\n",
       "    </tr>\n",
       "    <tr>\n",
       "      <th>4</th>\n",
       "      <td>20200503</td>\n",
       "      <td>AZ</td>\n",
       "      <td>8640.0</td>\n",
       "      <td>72479.0</td>\n",
       "      <td>NaN</td>\n",
       "      <td>732.0</td>\n",
       "      <td>1348.0</td>\n",
       "      <td>282.0</td>\n",
       "      <td>NaN</td>\n",
       "      <td>192.0</td>\n",
       "      <td>...</td>\n",
       "      <td>1348.0</td>\n",
       "      <td>81119.0</td>\n",
       "      <td>81119.0</td>\n",
       "      <td>81119.0</td>\n",
       "      <td>4</td>\n",
       "      <td>14.0</td>\n",
       "      <td>9.0</td>\n",
       "      <td>2846.0</td>\n",
       "      <td>276.0</td>\n",
       "      <td>3122.0</td>\n",
       "    </tr>\n",
       "  </tbody>\n",
       "</table>\n",
       "<p>5 rows × 25 columns</p>\n",
       "</div>"
      ],
      "text/plain": [
       "       Date State  CovidPos  CovidNeg  Pending  In Hospital  \\\n",
       "0  20200503    AK     368.0   21210.0      NaN         12.0   \n",
       "1  20200503    AL    7725.0   84775.0      NaN          NaN   \n",
       "2  20200503    AR    3431.0   49459.0      NaN        100.0   \n",
       "3  20200503    AS       0.0      57.0      NaN          NaN   \n",
       "4  20200503    AZ    8640.0   72479.0      NaN        732.0   \n",
       "\n",
       "   CumulativeHospitalized  IncluCur  IncluCum  OnVent  ...  Hospitalized  \\\n",
       "0                     NaN       NaN       NaN     NaN  ...           NaN   \n",
       "1                  1035.0       NaN     403.0     NaN  ...        1035.0   \n",
       "2                   427.0       NaN       NaN    20.0  ...         427.0   \n",
       "3                     NaN       NaN       NaN     NaN  ...           NaN   \n",
       "4                  1348.0     282.0       NaN   192.0  ...        1348.0   \n",
       "\n",
       "     Total TotalTestResults   PosNeg  Fips  DeathsIncreasedBy  \\\n",
       "0  21578.0          21578.0  21578.0     2                0.0   \n",
       "1  92500.0          92500.0  92500.0     1                2.0   \n",
       "2  52890.0          52890.0  52890.0     5                3.0   \n",
       "3     57.0             57.0     57.0    60                0.0   \n",
       "4  81119.0          81119.0  81119.0     4               14.0   \n",
       "\n",
       "   HospitalizedIncreasedBy  NegativeIncreasedBy  PositiveIncreasedBy  \\\n",
       "0                      0.0                176.0                  3.0   \n",
       "1                     12.0                  0.0                291.0   \n",
       "2                     13.0               1249.0                 59.0   \n",
       "3                      0.0                  0.0                  0.0   \n",
       "4                      9.0               2846.0                276.0   \n",
       "\n",
       "   TotalTestResultsIncreasedBy  \n",
       "0                        179.0  \n",
       "1                        291.0  \n",
       "2                       1308.0  \n",
       "3                          0.0  \n",
       "4                       3122.0  \n",
       "\n",
       "[5 rows x 25 columns]"
      ]
     },
     "execution_count": 210,
     "metadata": {},
     "output_type": "execute_result"
    }
   ],
   "source": [
    "# rename headers\n",
    "\n",
    "header_names=['Date', 'State', 'CovidPos', 'CovidNeg', 'Pending', \"In Hospital\", 'CumulativeHospitalized', 'IncluCur', 'IncluCum', 'OnVent', 'OnVentCum', 'Recovered', 'Hash', 'DateChecked', 'Deaths', 'Hospitalized', 'Total', 'TotalTestResults', 'PosNeg', 'Fips', 'DeathsIncreasedBy', 'HospitalizedIncreasedBy', 'NegativeIncreasedBy', 'PositiveIncreasedBy', 'TotalTestResultsIncreasedBy']\n",
    "\n",
    "df = pd.read_csv(\"us_states_covid19_daily.csv\", header=None, skiprows=1, names=header_names)\n",
    "df.head()\n",
    "\n"
   ]
  },
  {
   "cell_type": "code",
   "execution_count": 211,
   "metadata": {},
   "outputs": [
    {
     "name": "stdout",
     "output_type": "stream",
     "text": [
      "<class 'pandas.core.frame.DataFrame'>\n",
      "RangeIndex: 3321 entries, 0 to 3320\n",
      "Data columns (total 25 columns):\n",
      " #   Column                       Non-Null Count  Dtype  \n",
      "---  ------                       --------------  -----  \n",
      " 0   Date                         3321 non-null   int64  \n",
      " 1   State                        3321 non-null   object \n",
      " 2   CovidPos                     3306 non-null   float64\n",
      " 3   CovidNeg                     3140 non-null   float64\n",
      " 4   Pending                      677 non-null    float64\n",
      " 5   In Hospital                  1191 non-null   float64\n",
      " 6   CumulativeHospitalized       1239 non-null   float64\n",
      " 7   IncluCur                     594 non-null    float64\n",
      " 8   IncluCum                     232 non-null    float64\n",
      " 9   OnVent                       471 non-null    float64\n",
      " 10  OnVentCum                    72 non-null     float64\n",
      " 11  Recovered                    1037 non-null   float64\n",
      " 12  Hash                         3321 non-null   object \n",
      " 13  DateChecked                  3321 non-null   object \n",
      " 14  Deaths                       2594 non-null   float64\n",
      " 15  Hospitalized                 1239 non-null   float64\n",
      " 16  Total                        3319 non-null   float64\n",
      " 17  TotalTestResults             3319 non-null   float64\n",
      " 18  PosNeg                       3319 non-null   float64\n",
      " 19  Fips                         3321 non-null   int64  \n",
      " 20  DeathsIncreasedBy            3265 non-null   float64\n",
      " 21  HospitalizedIncreasedBy      3265 non-null   float64\n",
      " 22  NegativeIncreasedBy          3265 non-null   float64\n",
      " 23  PositiveIncreasedBy          3265 non-null   float64\n",
      " 24  TotalTestResultsIncreasedBy  3265 non-null   float64\n",
      "dtypes: float64(20), int64(2), object(3)\n",
      "memory usage: 648.8+ KB\n"
     ]
    },
    {
     "data": {
      "text/html": [
       "<div>\n",
       "<style scoped>\n",
       "    .dataframe tbody tr th:only-of-type {\n",
       "        vertical-align: middle;\n",
       "    }\n",
       "\n",
       "    .dataframe tbody tr th {\n",
       "        vertical-align: top;\n",
       "    }\n",
       "\n",
       "    .dataframe thead th {\n",
       "        text-align: right;\n",
       "    }\n",
       "</style>\n",
       "<table border=\"1\" class=\"dataframe\">\n",
       "  <thead>\n",
       "    <tr style=\"text-align: right;\">\n",
       "      <th></th>\n",
       "      <th>Date</th>\n",
       "      <th>State</th>\n",
       "      <th>CovidPos</th>\n",
       "      <th>CovidNeg</th>\n",
       "      <th>Pending</th>\n",
       "      <th>In Hospital</th>\n",
       "      <th>CumulativeHospitalized</th>\n",
       "      <th>IncluCur</th>\n",
       "      <th>IncluCum</th>\n",
       "      <th>OnVent</th>\n",
       "      <th>...</th>\n",
       "      <th>Hospitalized</th>\n",
       "      <th>Total</th>\n",
       "      <th>TotalTestResults</th>\n",
       "      <th>PosNeg</th>\n",
       "      <th>Fips</th>\n",
       "      <th>DeathsIncreasedBy</th>\n",
       "      <th>HospitalizedIncreasedBy</th>\n",
       "      <th>NegativeIncreasedBy</th>\n",
       "      <th>PositiveIncreasedBy</th>\n",
       "      <th>TotalTestResultsIncreasedBy</th>\n",
       "    </tr>\n",
       "  </thead>\n",
       "  <tbody>\n",
       "    <tr>\n",
       "      <th>0</th>\n",
       "      <td>20200503</td>\n",
       "      <td>AK</td>\n",
       "      <td>368.0</td>\n",
       "      <td>21210.0</td>\n",
       "      <td>0.0</td>\n",
       "      <td>12.0</td>\n",
       "      <td>0.0</td>\n",
       "      <td>0.0</td>\n",
       "      <td>0.0</td>\n",
       "      <td>0.0</td>\n",
       "      <td>...</td>\n",
       "      <td>0.0</td>\n",
       "      <td>21578.0</td>\n",
       "      <td>21578.0</td>\n",
       "      <td>21578.0</td>\n",
       "      <td>2</td>\n",
       "      <td>0.0</td>\n",
       "      <td>0.0</td>\n",
       "      <td>176.0</td>\n",
       "      <td>3.0</td>\n",
       "      <td>179.0</td>\n",
       "    </tr>\n",
       "    <tr>\n",
       "      <th>1</th>\n",
       "      <td>20200503</td>\n",
       "      <td>AL</td>\n",
       "      <td>7725.0</td>\n",
       "      <td>84775.0</td>\n",
       "      <td>0.0</td>\n",
       "      <td>0.0</td>\n",
       "      <td>1035.0</td>\n",
       "      <td>0.0</td>\n",
       "      <td>403.0</td>\n",
       "      <td>0.0</td>\n",
       "      <td>...</td>\n",
       "      <td>1035.0</td>\n",
       "      <td>92500.0</td>\n",
       "      <td>92500.0</td>\n",
       "      <td>92500.0</td>\n",
       "      <td>1</td>\n",
       "      <td>2.0</td>\n",
       "      <td>12.0</td>\n",
       "      <td>0.0</td>\n",
       "      <td>291.0</td>\n",
       "      <td>291.0</td>\n",
       "    </tr>\n",
       "    <tr>\n",
       "      <th>2</th>\n",
       "      <td>20200503</td>\n",
       "      <td>AR</td>\n",
       "      <td>3431.0</td>\n",
       "      <td>49459.0</td>\n",
       "      <td>0.0</td>\n",
       "      <td>100.0</td>\n",
       "      <td>427.0</td>\n",
       "      <td>0.0</td>\n",
       "      <td>0.0</td>\n",
       "      <td>20.0</td>\n",
       "      <td>...</td>\n",
       "      <td>427.0</td>\n",
       "      <td>52890.0</td>\n",
       "      <td>52890.0</td>\n",
       "      <td>52890.0</td>\n",
       "      <td>5</td>\n",
       "      <td>3.0</td>\n",
       "      <td>13.0</td>\n",
       "      <td>1249.0</td>\n",
       "      <td>59.0</td>\n",
       "      <td>1308.0</td>\n",
       "    </tr>\n",
       "    <tr>\n",
       "      <th>3</th>\n",
       "      <td>20200503</td>\n",
       "      <td>AS</td>\n",
       "      <td>0.0</td>\n",
       "      <td>57.0</td>\n",
       "      <td>0.0</td>\n",
       "      <td>0.0</td>\n",
       "      <td>0.0</td>\n",
       "      <td>0.0</td>\n",
       "      <td>0.0</td>\n",
       "      <td>0.0</td>\n",
       "      <td>...</td>\n",
       "      <td>0.0</td>\n",
       "      <td>57.0</td>\n",
       "      <td>57.0</td>\n",
       "      <td>57.0</td>\n",
       "      <td>60</td>\n",
       "      <td>0.0</td>\n",
       "      <td>0.0</td>\n",
       "      <td>0.0</td>\n",
       "      <td>0.0</td>\n",
       "      <td>0.0</td>\n",
       "    </tr>\n",
       "    <tr>\n",
       "      <th>4</th>\n",
       "      <td>20200503</td>\n",
       "      <td>AZ</td>\n",
       "      <td>8640.0</td>\n",
       "      <td>72479.0</td>\n",
       "      <td>0.0</td>\n",
       "      <td>732.0</td>\n",
       "      <td>1348.0</td>\n",
       "      <td>282.0</td>\n",
       "      <td>0.0</td>\n",
       "      <td>192.0</td>\n",
       "      <td>...</td>\n",
       "      <td>1348.0</td>\n",
       "      <td>81119.0</td>\n",
       "      <td>81119.0</td>\n",
       "      <td>81119.0</td>\n",
       "      <td>4</td>\n",
       "      <td>14.0</td>\n",
       "      <td>9.0</td>\n",
       "      <td>2846.0</td>\n",
       "      <td>276.0</td>\n",
       "      <td>3122.0</td>\n",
       "    </tr>\n",
       "    <tr>\n",
       "      <th>...</th>\n",
       "      <td>...</td>\n",
       "      <td>...</td>\n",
       "      <td>...</td>\n",
       "      <td>...</td>\n",
       "      <td>...</td>\n",
       "      <td>...</td>\n",
       "      <td>...</td>\n",
       "      <td>...</td>\n",
       "      <td>...</td>\n",
       "      <td>...</td>\n",
       "      <td>...</td>\n",
       "      <td>...</td>\n",
       "      <td>...</td>\n",
       "      <td>...</td>\n",
       "      <td>...</td>\n",
       "      <td>...</td>\n",
       "      <td>...</td>\n",
       "      <td>...</td>\n",
       "      <td>...</td>\n",
       "      <td>...</td>\n",
       "      <td>...</td>\n",
       "    </tr>\n",
       "    <tr>\n",
       "      <th>3316</th>\n",
       "      <td>20200126</td>\n",
       "      <td>WA</td>\n",
       "      <td>1.0</td>\n",
       "      <td>0.0</td>\n",
       "      <td>0.0</td>\n",
       "      <td>0.0</td>\n",
       "      <td>0.0</td>\n",
       "      <td>0.0</td>\n",
       "      <td>0.0</td>\n",
       "      <td>0.0</td>\n",
       "      <td>...</td>\n",
       "      <td>0.0</td>\n",
       "      <td>1.0</td>\n",
       "      <td>1.0</td>\n",
       "      <td>1.0</td>\n",
       "      <td>53</td>\n",
       "      <td>0.0</td>\n",
       "      <td>0.0</td>\n",
       "      <td>0.0</td>\n",
       "      <td>0.0</td>\n",
       "      <td>0.0</td>\n",
       "    </tr>\n",
       "    <tr>\n",
       "      <th>3317</th>\n",
       "      <td>20200125</td>\n",
       "      <td>WA</td>\n",
       "      <td>1.0</td>\n",
       "      <td>0.0</td>\n",
       "      <td>0.0</td>\n",
       "      <td>0.0</td>\n",
       "      <td>0.0</td>\n",
       "      <td>0.0</td>\n",
       "      <td>0.0</td>\n",
       "      <td>0.0</td>\n",
       "      <td>...</td>\n",
       "      <td>0.0</td>\n",
       "      <td>1.0</td>\n",
       "      <td>1.0</td>\n",
       "      <td>1.0</td>\n",
       "      <td>53</td>\n",
       "      <td>0.0</td>\n",
       "      <td>0.0</td>\n",
       "      <td>0.0</td>\n",
       "      <td>0.0</td>\n",
       "      <td>0.0</td>\n",
       "    </tr>\n",
       "    <tr>\n",
       "      <th>3318</th>\n",
       "      <td>20200124</td>\n",
       "      <td>WA</td>\n",
       "      <td>1.0</td>\n",
       "      <td>0.0</td>\n",
       "      <td>0.0</td>\n",
       "      <td>0.0</td>\n",
       "      <td>0.0</td>\n",
       "      <td>0.0</td>\n",
       "      <td>0.0</td>\n",
       "      <td>0.0</td>\n",
       "      <td>...</td>\n",
       "      <td>0.0</td>\n",
       "      <td>1.0</td>\n",
       "      <td>1.0</td>\n",
       "      <td>1.0</td>\n",
       "      <td>53</td>\n",
       "      <td>0.0</td>\n",
       "      <td>0.0</td>\n",
       "      <td>0.0</td>\n",
       "      <td>0.0</td>\n",
       "      <td>0.0</td>\n",
       "    </tr>\n",
       "    <tr>\n",
       "      <th>3319</th>\n",
       "      <td>20200123</td>\n",
       "      <td>WA</td>\n",
       "      <td>1.0</td>\n",
       "      <td>0.0</td>\n",
       "      <td>0.0</td>\n",
       "      <td>0.0</td>\n",
       "      <td>0.0</td>\n",
       "      <td>0.0</td>\n",
       "      <td>0.0</td>\n",
       "      <td>0.0</td>\n",
       "      <td>...</td>\n",
       "      <td>0.0</td>\n",
       "      <td>1.0</td>\n",
       "      <td>1.0</td>\n",
       "      <td>1.0</td>\n",
       "      <td>53</td>\n",
       "      <td>0.0</td>\n",
       "      <td>0.0</td>\n",
       "      <td>0.0</td>\n",
       "      <td>0.0</td>\n",
       "      <td>0.0</td>\n",
       "    </tr>\n",
       "    <tr>\n",
       "      <th>3320</th>\n",
       "      <td>20200122</td>\n",
       "      <td>WA</td>\n",
       "      <td>1.0</td>\n",
       "      <td>0.0</td>\n",
       "      <td>0.0</td>\n",
       "      <td>0.0</td>\n",
       "      <td>0.0</td>\n",
       "      <td>0.0</td>\n",
       "      <td>0.0</td>\n",
       "      <td>0.0</td>\n",
       "      <td>...</td>\n",
       "      <td>0.0</td>\n",
       "      <td>1.0</td>\n",
       "      <td>1.0</td>\n",
       "      <td>1.0</td>\n",
       "      <td>53</td>\n",
       "      <td>0.0</td>\n",
       "      <td>0.0</td>\n",
       "      <td>0.0</td>\n",
       "      <td>0.0</td>\n",
       "      <td>0.0</td>\n",
       "    </tr>\n",
       "  </tbody>\n",
       "</table>\n",
       "<p>3321 rows × 25 columns</p>\n",
       "</div>"
      ],
      "text/plain": [
       "          Date State  CovidPos  CovidNeg  Pending  In Hospital  \\\n",
       "0     20200503    AK     368.0   21210.0      0.0         12.0   \n",
       "1     20200503    AL    7725.0   84775.0      0.0          0.0   \n",
       "2     20200503    AR    3431.0   49459.0      0.0        100.0   \n",
       "3     20200503    AS       0.0      57.0      0.0          0.0   \n",
       "4     20200503    AZ    8640.0   72479.0      0.0        732.0   \n",
       "...        ...   ...       ...       ...      ...          ...   \n",
       "3316  20200126    WA       1.0       0.0      0.0          0.0   \n",
       "3317  20200125    WA       1.0       0.0      0.0          0.0   \n",
       "3318  20200124    WA       1.0       0.0      0.0          0.0   \n",
       "3319  20200123    WA       1.0       0.0      0.0          0.0   \n",
       "3320  20200122    WA       1.0       0.0      0.0          0.0   \n",
       "\n",
       "      CumulativeHospitalized  IncluCur  IncluCum  OnVent  ...  Hospitalized  \\\n",
       "0                        0.0       0.0       0.0     0.0  ...           0.0   \n",
       "1                     1035.0       0.0     403.0     0.0  ...        1035.0   \n",
       "2                      427.0       0.0       0.0    20.0  ...         427.0   \n",
       "3                        0.0       0.0       0.0     0.0  ...           0.0   \n",
       "4                     1348.0     282.0       0.0   192.0  ...        1348.0   \n",
       "...                      ...       ...       ...     ...  ...           ...   \n",
       "3316                     0.0       0.0       0.0     0.0  ...           0.0   \n",
       "3317                     0.0       0.0       0.0     0.0  ...           0.0   \n",
       "3318                     0.0       0.0       0.0     0.0  ...           0.0   \n",
       "3319                     0.0       0.0       0.0     0.0  ...           0.0   \n",
       "3320                     0.0       0.0       0.0     0.0  ...           0.0   \n",
       "\n",
       "        Total TotalTestResults   PosNeg  Fips  DeathsIncreasedBy  \\\n",
       "0     21578.0          21578.0  21578.0     2                0.0   \n",
       "1     92500.0          92500.0  92500.0     1                2.0   \n",
       "2     52890.0          52890.0  52890.0     5                3.0   \n",
       "3        57.0             57.0     57.0    60                0.0   \n",
       "4     81119.0          81119.0  81119.0     4               14.0   \n",
       "...       ...              ...      ...   ...                ...   \n",
       "3316      1.0              1.0      1.0    53                0.0   \n",
       "3317      1.0              1.0      1.0    53                0.0   \n",
       "3318      1.0              1.0      1.0    53                0.0   \n",
       "3319      1.0              1.0      1.0    53                0.0   \n",
       "3320      1.0              1.0      1.0    53                0.0   \n",
       "\n",
       "      HospitalizedIncreasedBy  NegativeIncreasedBy  PositiveIncreasedBy  \\\n",
       "0                         0.0                176.0                  3.0   \n",
       "1                        12.0                  0.0                291.0   \n",
       "2                        13.0               1249.0                 59.0   \n",
       "3                         0.0                  0.0                  0.0   \n",
       "4                         9.0               2846.0                276.0   \n",
       "...                       ...                  ...                  ...   \n",
       "3316                      0.0                  0.0                  0.0   \n",
       "3317                      0.0                  0.0                  0.0   \n",
       "3318                      0.0                  0.0                  0.0   \n",
       "3319                      0.0                  0.0                  0.0   \n",
       "3320                      0.0                  0.0                  0.0   \n",
       "\n",
       "      TotalTestResultsIncreasedBy  \n",
       "0                           179.0  \n",
       "1                           291.0  \n",
       "2                          1308.0  \n",
       "3                             0.0  \n",
       "4                          3122.0  \n",
       "...                           ...  \n",
       "3316                          0.0  \n",
       "3317                          0.0  \n",
       "3318                          0.0  \n",
       "3319                          0.0  \n",
       "3320                          0.0  \n",
       "\n",
       "[3321 rows x 25 columns]"
      ]
     },
     "execution_count": 211,
     "metadata": {},
     "output_type": "execute_result"
    }
   ],
   "source": [
    "df.info()\n",
    "df.isnull().sum()\n",
    "df.fillna(0)"
   ]
  },
  {
   "cell_type": "markdown",
   "metadata": {},
   "source": [
    "### Histograms"
   ]
  },
  {
   "cell_type": "code",
   "execution_count": 212,
   "metadata": {},
   "outputs": [],
   "source": [
    "def makeHist(dataframe, variables: list, hist_titles: list):\n",
    "    fig = plt.figure()\n",
    "    fig.subplots_adjust(hspace=0.8, wspace=0.5)\n",
    "    fig.set_size_inches(15, 15)\n",
    "\n",
    "    i = 1\n",
    "    for var in variables:\n",
    "        fig.add_subplot(3, 3, i)\n",
    "        sb.distplot(pd.Series(dataframe[var], name=histLabels[i-1]), fit=norm, kde=False).set_title(var + \" Histogram\")\n",
    "        i += 1\n",
    "\n",
    "    fig.tight_layout()\n",
    "    plt.show()"
   ]
  },
  {
   "cell_type": "code",
   "execution_count": 213,
   "metadata": {},
   "outputs": [
    {
     "data": {
      "image/png": "[encoded data removed]",
      "text/plain": [
       "<Figure size 1080x1080 with 8 Axes>"
      ]
     },
     "metadata": {
      "needs_background": "light"
     },
     "output_type": "display_data"
    }
   ],
   "source": [
    "variables = ['CovidPos', 'CovidNeg', 'Pending', \"In Hospital\", 'CumulativeHospitalized', 'IncluCur', 'IncluCum', 'OnVent']\n",
    "\n",
    "hist_titles = ['CovidPos', 'CovidNeg', 'Pending', \"In Hospital\", 'CumulativeHospitalized', 'IncluCur', 'IncluCum', 'OnVent']\n",
    "\n",
    "makeHist(df, variables, hist_titles)"
   ]
  },
  {
   "cell_type": "markdown",
   "metadata": {},
   "source": [
    "### Variables to Use:\n",
    "\n",
    "Date: The date the information was collected for. Format is year,month,day\n",
    "\n",
    "\n",
    "State: Known abbreviations for the state the data is collected for\n",
    "\n",
    "\n",
    "CovidPos: The amount of people that tested Covid Positive\n",
    "\n",
    "\n",
    "CovidNeg: The amount of people that tested Covid Negative\n",
    "\n",
    "NegativeIncreasedBy:  How many more negative cases reported than the previous day\n",
    "\n",
    "\n",
    "PositiveIncreasedBy: How many more positive cases reported than the previous day\n",
    "\n",
    "In Hospital: How many people are in the hospital on that date"
   ]
  },
  {
   "cell_type": "code",
   "execution_count": 233,
   "metadata": {},
   "outputs": [
    {
     "name": "stdout",
     "output_type": "stream",
     "text": [
      "The mean for CovidPos variable is 7223.9422262552935\n",
      "The mode for CovidPos variable is 0    0.0\n",
      "dtype: float64\n",
      "The histogram is left skewed.\n",
      "The variance is 636900362.3273735\n",
      "The standard deviation is 25236.88495689144\n"
     ]
    },
    {
     "name": "stderr",
     "output_type": "stream",
     "text": [
      "/Users/ajunisohota/opt/anaconda3/lib/python3.7/site-packages/numpy/lib/histograms.py:839: RuntimeWarning: invalid value encountered in greater_equal\n",
      "  keep = (tmp_a >= first_edge)\n",
      "/Users/ajunisohota/opt/anaconda3/lib/python3.7/site-packages/numpy/lib/histograms.py:840: RuntimeWarning: invalid value encountered in less_equal\n",
      "  keep &= (tmp_a <= last_edge)\n"
     ]
    },
    {
     "data": {
      "image/png": "[encoded data removed]",
      "text/plain": [
       "<Figure size 432x288 with 1 Axes>"
      ]
     },
     "metadata": {
      "needs_background": "light"
     },
     "output_type": "display_data"
    }
   ],
   "source": [
    "plt.hist(df.CovidPos)\n",
    "print(\"The mean for CovidPos variable is\", df[\"CovidPos\"].mean())\n",
    "print(\"The mode for CovidPos variable is\", df[\"CovidPos\"].mode())\n",
    "print(\"The histogram is left skewed.\")\n",
    "print(\"The variance is\", df[\"CovidPos\"].var())\n",
    "print(\"The standard deviation is\", df[\"CovidPos\"].std())\n",
    "\n"
   ]
  },
  {
   "cell_type": "code",
   "execution_count": 234,
   "metadata": {},
   "outputs": [
    {
     "name": "stdout",
     "output_type": "stream",
     "text": [
      "The mean for CovidNeg variable is 34551.0025477707\n",
      "The mode for CovidNeg variable is 0    3.0\n",
      "dtype: float64\n",
      "The histogram is left skewed.\n",
      "The variance is 4581084050.969728\n",
      "The standard deviation is 67683.70594884509\n"
     ]
    },
    {
     "data": {
      "image/png": "[encoded data removed]",
      "text/plain": [
       "<Figure size 432x288 with 1 Axes>"
      ]
     },
     "metadata": {
      "needs_background": "light"
     },
     "output_type": "display_data"
    }
   ],
   "source": [
    "plt.hist(df.CovidNeg)\n",
    "print(\"The mean for CovidNeg variable is\", df[\"CovidNeg\"].mean())\n",
    "print(\"The mode for CovidNeg variable is\", df[\"CovidNeg\"].mode())\n",
    "print(\"The histogram is left skewed.\")\n",
    "print(\"The variance is\", df[\"CovidNeg\"].var())\n",
    "print(\"The standard deviation is\", df[\"CovidNeg\"].std())\n",
    "\n"
   ]
  },
  {
   "cell_type": "code",
   "execution_count": 235,
   "metadata": {},
   "outputs": [
    {
     "name": "stdout",
     "output_type": "stream",
     "text": [
      "The mean for NegativeIncreasedBy variable is 1807.144563552833\n",
      "The mode for NegativeIncreasedBy variable is 0    0.0\n",
      "dtype: float64\n",
      "The histogram is left skewed.\n",
      "The variance is 20444029.559364766\n",
      "The standard deviation is 4521.507443249958\n"
     ]
    },
    {
     "data": {
      "image/png": "[encoded data removed]",
      "text/plain": [
       "<Figure size 432x288 with 1 Axes>"
      ]
     },
     "metadata": {
      "needs_background": "light"
     },
     "output_type": "display_data"
    }
   ],
   "source": [
    "plt.hist(df.NegativeIncreasedBy)\n",
    "print(\"The mean for NegativeIncreasedBy variable is\", df[\"NegativeIncreasedBy\"].mean())\n",
    "print(\"The mode for NegativeIncreasedBy variable is\", df[\"NegativeIncreasedBy\"].mode())\n",
    "print(\"The histogram is left skewed.\")\n",
    "print(\"The variance is\", df[\"NegativeIncreasedBy\"].var())\n",
    "print(\"The standard deviation is\", df[\"NegativeIncreasedBy\"].std())\n",
    "\n",
    "\n",
    "\n"
   ]
  },
  {
   "cell_type": "code",
   "execution_count": 236,
   "metadata": {},
   "outputs": [
    {
     "name": "stdout",
     "output_type": "stream",
     "text": [
      "The mean for PositiveIncreasedBy variable is 352.8\n",
      "The mode for PositiveIncreasedBy variable is 0    0.0\n",
      "dtype: float64\n",
      "The histogram is left skewed.\n",
      "The variance is 949769.9995097987\n",
      "The standard deviation is 974.5614395766943\n"
     ]
    },
    {
     "data": {
      "image/png": "[encoded data removed]",
      "text/plain": [
       "<Figure size 432x288 with 1 Axes>"
      ]
     },
     "metadata": {
      "needs_background": "light"
     },
     "output_type": "display_data"
    }
   ],
   "source": [
    "plt.hist(df.PositiveIncreasedBy)\n",
    "print(\"The mean for PositiveIncreasedBy variable is\", df[\"PositiveIncreasedBy\"].mean())\n",
    "print(\"The mode for PositiveIncreasedBy variable is\", df[\"PositiveIncreasedBy\"].mode())\n",
    "print(\"The histogram is left skewed.\")\n",
    "print(\"The variance is\", df[\"PositiveIncreasedBy\"].var())\n",
    "print(\"The standard deviation is\", df[\"PositiveIncreasedBy\"].std())\n",
    "\n",
    "\n",
    "\n"
   ]
  },
  {
   "cell_type": "code",
   "execution_count": 237,
   "metadata": {},
   "outputs": [
    {
     "name": "stdout",
     "output_type": "stream",
     "text": [
      "The mean for In Hospital variable is 1449.4811083123425\n",
      "The mode for In Hospital variable is 0    13.0\n",
      "1    19.0\n",
      "dtype: float64\n",
      "The histogram is left skewed.\n",
      "The variance is 8274663.012878094\n",
      "The standard deviation is 2876.5713988841117\n"
     ]
    },
    {
     "data": {
      "image/png": "[encoded data removed]",
      "text/plain": [
       "<Figure size 432x288 with 1 Axes>"
      ]
     },
     "metadata": {
      "needs_background": "light"
     },
     "output_type": "display_data"
    }
   ],
   "source": [
    "plt.hist(df[\"In Hospital\"])\n",
    "print(\"The mean for In Hospital variable is\", df[\"In Hospital\"].mean())\n",
    "print(\"The mode for In Hospital variable is\", df[\"In Hospital\"].mode())\n",
    "print(\"The histogram is left skewed.\")\n",
    "print(\"The variance is\", df[\"In Hospital\"].var())\n",
    "print(\"The standard deviation is\", df[\"In Hospital\"].std())\n",
    "\n",
    "\n",
    "        \n",
    "        "
   ]
  },
  {
   "cell_type": "markdown",
   "metadata": {},
   "source": [
    "I don't want to trim the data, even though it is heavily skewed because of all the zero data. The zero data is real data that represents day to day data, so I don't feel it would be accurate of an analysis to trim it. "
   ]
  },
  {
   "cell_type": "markdown",
   "metadata": {},
   "source": [
    "### Using pg. 29 of your text as an example, compare two scenarios in your data using a PMF. Reminder, this isn’t comparing two variables against each other – it is the same variable, but a different scenario. Almost like a filter. The example in the book is first babies compared to all other babies, it is still the same variable, but breaking the data out based on criteria we are exploring (Chapter 3)."
   ]
  },
  {
   "cell_type": "code",
   "execution_count": 219,
   "metadata": {},
   "outputs": [],
   "source": [
    "# Separate data into two sets: data from only CA and data from only NY\n",
    "\n",
    "CA = df[df['State'] == 'CA']\n",
    "NY = df[df['State'] == 'NY']"
   ]
  },
  {
   "cell_type": "code",
   "execution_count": 220,
   "metadata": {},
   "outputs": [
    {
     "data": {
      "text/plain": [
       "<matplotlib.legend.Legend at 0x1a21a6ed50>"
      ]
     },
     "execution_count": 220,
     "metadata": {},
     "output_type": "execute_result"
    },
    {
     "data": {
      "image/png": "[encoded data removed]",
      "text/plain": [
       "<Figure size 1224x864 with 1 Axes>"
      ]
     },
     "metadata": {
      "needs_background": "light"
     },
     "output_type": "display_data"
    }
   ],
   "source": [
    "# Specifying the Covid Positive column for CA and NY data\n",
    "cacovid = thinkstats2.Pmf(CA['CovidPos'], label = 'CA')\n",
    "nycovid = thinkstats2.Pmf(NY['CovidPos'], label = 'NY')\n",
    "\n",
    "fig = plt.figure()\n",
    "plt.rcParams['axes.titlesize'] = 16\n",
    "fig.set_size_inches(17, 12)\n",
    "\n",
    "\n",
    "thinkplot.Pmfs([cacovid, nycovid])\n",
    "thinkplot.Config(title = \"PMF: CA vs. NY Covid Positive Cases\", xlabel='CA vs. NY Covid Pos')\n",
    "plt.legend(prop={\"size\":15})"
   ]
  },
  {
   "cell_type": "markdown",
   "metadata": {},
   "source": [
    "New York has higher rate numbers of Covid Cases."
   ]
  },
  {
   "cell_type": "markdown",
   "metadata": {},
   "source": [
    "### Create 1 CDF with one of your variables, using page 41-44 as your guide, what does this tell you about your variable and how does it address the question you are trying to answer (Chapter 4)."
   ]
  },
  {
   "cell_type": "code",
   "execution_count": 221,
   "metadata": {},
   "outputs": [
    {
     "data": {
      "text/plain": [
       "<matplotlib.legend.Legend at 0x1a1f98c4d0>"
      ]
     },
     "execution_count": 221,
     "metadata": {},
     "output_type": "execute_result"
    },
    {
     "data": {
      "image/png": "[encoded data removed]",
      "text/plain": [
       "<Figure size 1224x864 with 1 Axes>"
      ]
     },
     "metadata": {
      "needs_background": "light"
     },
     "output_type": "display_data"
    }
   ],
   "source": [
    "ca_cdf = thinkstats2.Cdf(CA['Deaths'], label = 'CA')\n",
    "ny_cdf = thinkstats2.Cdf(NY['Deaths'], label = 'NY')\n",
    "\n",
    "fig = plt.figure()\n",
    "plt.rcParams['axes.titlesize'] = 16\n",
    "fig.set_size_inches(17, 12)\n",
    "\n",
    "thinkplot.Cdfs([ca_cdf, ny_cdf])\n",
    "thinkplot.Config(title='CDF of Deaths in CA and NY', xlabel='Deaths', ylabel='CDF')\n",
    "plt.legend(prop={\"size\":15})"
   ]
  },
  {
   "cell_type": "markdown",
   "metadata": {},
   "source": [
    "This shows that the death rates are higher in NY but that CA has a faster progression of deaths."
   ]
  },
  {
   "cell_type": "markdown",
   "metadata": {},
   "source": [
    "### Plot 1 analytical distribution and provide your analysis on how it applies to the dataset you have chosen (Chapter 5)."
   ]
  },
  {
   "cell_type": "code",
   "execution_count": 222,
   "metadata": {},
   "outputs": [
    {
     "name": "stderr",
     "output_type": "stream",
     "text": [
      "No handles with labels found to put in legend.\n"
     ]
    },
    {
     "data": {
      "image/png": "[encoded data removed]",
      "text/plain": [
       "<Figure size 1152x720 with 1 Axes>"
      ]
     },
     "metadata": {
      "needs_background": "light"
     },
     "output_type": "display_data"
    }
   ],
   "source": [
    "\n",
    "fig = plt.figure()\n",
    "fig.set_size_inches(16, 10)\n",
    "fig.subplots_adjust(hspace=0.8, wspace=0.5)\n",
    "\n",
    "xs, ys = thinkstats2.NormalProbability(CA['Deaths'])\n",
    "thinkplot.Plot(xs, ys)\n",
    "\n",
    "thinkplot.Config(title='Normal Probability Plot of CA Deaths',\n",
    "                     xlabel='Distributions of sums',\n",
    "                     ylabel='Death Rate')\n",
    "\n",
    "fig.tight_layout()"
   ]
  },
  {
   "cell_type": "markdown",
   "metadata": {},
   "source": [
    "It looks like it is not a perfect line which would indicate there si a normal relationship, but instead we see exponential growth. "
   ]
  },
  {
   "cell_type": "markdown",
   "metadata": {},
   "source": [
    "\n",
    "### Create two scatter plots comparing two variables and provide your analysis on correlation and causation. Remember, covariance, Pearson’s correlation, and Non-Linear Relationships should also be considered during your analysis (Chapter 7)."
   ]
  },
  {
   "cell_type": "code",
   "execution_count": 223,
   "metadata": {},
   "outputs": [],
   "source": [
    "def PearsCorr(xs, ys):\n",
    "    xs = np.asarray(xs)\n",
    "    ys = np.asarray(ys)\n",
    "\n",
    "    meanx, varx = thinkstats2.MeanVar(xs)\n",
    "    meany, vary = thinkstats2.MeanVar(ys)\n",
    "\n",
    "    corr = thinkstats2.Cov(xs, ys, meanx, meany) / np.sqrt(varx * vary)\n",
    "    \n",
    "    return corr\n",
    "\n",
    "def SpearCorr(xs, ys):\n",
    "    xranked = pd.Series(xs).rank()\n",
    "    yranked = pd.Series(ys).rank()\n",
    "    \n",
    "    return PearsCorr(xranked, yranked)"
   ]
  },
  {
   "cell_type": "code",
   "execution_count": 224,
   "metadata": {},
   "outputs": [
    {
     "data": {
      "image/png": "[encoded data removed]",
      "text/plain": [
       "<Figure size 432x288 with 1 Axes>"
      ]
     },
     "metadata": {
      "needs_background": "light"
     },
     "output_type": "display_data"
    }
   ],
   "source": [
    "thinkplot.Scatter(CA['CovidPos'], NY['CovidPos'], alpha=.60, s=10)"
   ]
  },
  {
   "cell_type": "code",
   "execution_count": 225,
   "metadata": {},
   "outputs": [
    {
     "name": "stdout",
     "output_type": "stream",
     "text": [
      "The Pearson's Correlation is: 0.9818318001646185\n",
      "The Spearmans's Correlation is: 0.9999338942625295\n"
     ]
    }
   ],
   "source": [
    "print(\"The Pearson's Correlation is:\", PearsCorr(CA['CovidPos'], NY['CovidPos']))\n",
    "print(\"The Spearmans's Correlation is:\", SpearCorr(CA['CovidPos'], NY['CovidPos']))"
   ]
  },
  {
   "cell_type": "code",
   "execution_count": 226,
   "metadata": {},
   "outputs": [
    {
     "data": {
      "image/png": "[encoded data removed]",
      "text/plain": [
       "<Figure size 432x288 with 1 Axes>"
      ]
     },
     "metadata": {
      "needs_background": "light"
     },
     "output_type": "display_data"
    }
   ],
   "source": [
    "thinkplot.Scatter(CA['CovidNeg'], NY['CovidNeg'], alpha=.60, s=10)"
   ]
  },
  {
   "cell_type": "code",
   "execution_count": 227,
   "metadata": {},
   "outputs": [
    {
     "name": "stdout",
     "output_type": "stream",
     "text": [
      "The Pearson's Correlation is: 0.9700186481628098\n",
      "The Spearmans's Correlation is: 0.9979213304181881\n"
     ]
    }
   ],
   "source": [
    "print(\"The Pearson's Correlation is:\", PearsCorr(CA['CovidNeg'], NY['CovidNeg']))\n",
    "print(\"The Spearmans's Correlation is:\", SpearCorr(CA['CovidNeg'], NY['CovidNeg']))"
   ]
  },
  {
   "cell_type": "markdown",
   "metadata": {},
   "source": [
    "Conduct a test on your hypothesis using one of the methods covered in Chapter 9."
   ]
  },
  {
   "cell_type": "code",
   "execution_count": 240,
   "metadata": {},
   "outputs": [],
   "source": [
    "class DiffMeansPermute(thinkstats2.HypothesisTest):\n",
    "\n",
    "    def TestStatistic(self, data):\n",
    "        group1, group2 = data\n",
    "        test_stat = abs(group1.mean() - group2.mean())\n",
    "        return test_stat\n",
    "\n",
    "    def MakeModel(self):\n",
    "        group1, group2 = self.data\n",
    "        self.n, self.m = len(group1), len(group2)\n",
    "        self.pool = np.hstack((group1, group2))\n",
    "\n",
    "    def RunModel(self):\n",
    "        np.random.shuffle(self.pool)\n",
    "        data = self.pool[:self.n], self.pool[self.n:]\n",
    "        return data"
   ]
  },
  {
   "cell_type": "code",
   "execution_count": 245,
   "metadata": {},
   "outputs": [
    {
     "data": {
      "text/plain": [
       "0.0"
      ]
     },
     "execution_count": 245,
     "metadata": {},
     "output_type": "execute_result"
    }
   ],
   "source": [
    "data = CA.CovidPos.values, NY.CovidPos.values\n",
    "ht = DiffMeansPermute(data)\n",
    "pvalue = ht.PValue()\n",
    "pvalue"
   ]
  },
  {
   "cell_type": "markdown",
   "metadata": {},
   "source": [
    "No matter how I choose data for the above hypothesis testing, it will not give me an answer other than 0. I'm not sure what I'm doing wrong but I think I am missing something!"
   ]
  },
  {
   "cell_type": "markdown",
   "metadata": {},
   "source": [
    "### For this project, conduct a regression analysis on either one dependent and one explanatory variable, or multiple explanatory variables (Chapter 10 & 11)."
   ]
  },
  {
   "cell_type": "code",
   "execution_count": 238,
   "metadata": {},
   "outputs": [],
   "source": [
    "df[\"CovidPos\"] = pd.to_numeric(df.CovidPos, errors='coerce')\n",
    "df[\"CovidNeg\"] = pd.to_numeric(df.CovidNeg, errors='coerce')\n",
    "df[\"NegativeIncreasedBy\"] = pd.to_numeric(df.NegativeIncreasedBy, errors='coerce')\n"
   ]
  },
  {
   "cell_type": "code",
   "execution_count": 248,
   "metadata": {},
   "outputs": [
    {
     "data": {
      "text/html": [
       "<table class=\"simpletable\">\n",
       "<caption>OLS Regression Results</caption>\n",
       "<tr>\n",
       "  <th>Dep. Variable:</th>        <td>CovidPos</td>     <th>  R-squared:         </th> <td>   0.560</td> \n",
       "</tr>\n",
       "<tr>\n",
       "  <th>Model:</th>                   <td>OLS</td>       <th>  Adj. R-squared:    </th> <td>   0.559</td> \n",
       "</tr>\n",
       "<tr>\n",
       "  <th>Method:</th>             <td>Least Squares</td>  <th>  F-statistic:       </th> <td>   3986.</td> \n",
       "</tr>\n",
       "<tr>\n",
       "  <th>Date:</th>             <td>Sat, 30 May 2020</td> <th>  Prob (F-statistic):</th>  <td>  0.00</td>  \n",
       "</tr>\n",
       "<tr>\n",
       "  <th>Time:</th>                 <td>16:58:42</td>     <th>  Log-Likelihood:    </th> <td> -35069.</td> \n",
       "</tr>\n",
       "<tr>\n",
       "  <th>No. Observations:</th>      <td>  3140</td>      <th>  AIC:               </th> <td>7.014e+04</td>\n",
       "</tr>\n",
       "<tr>\n",
       "  <th>Df Residuals:</th>          <td>  3138</td>      <th>  BIC:               </th> <td>7.015e+04</td>\n",
       "</tr>\n",
       "<tr>\n",
       "  <th>Df Model:</th>              <td>     1</td>      <th>                     </th>     <td> </td>    \n",
       "</tr>\n",
       "<tr>\n",
       "  <th>Covariance Type:</th>      <td>nonrobust</td>    <th>                     </th>     <td> </td>    \n",
       "</tr>\n",
       "</table>\n",
       "<table class=\"simpletable\">\n",
       "<tr>\n",
       "      <td></td>         <th>coef</th>     <th>std err</th>      <th>t</th>      <th>P>|t|</th>  <th>[0.025</th>    <th>0.975]</th>  \n",
       "</tr>\n",
       "<tr>\n",
       "  <th>Intercept</th> <td>-2261.3437</td> <td>  343.674</td> <td>   -6.580</td> <td> 0.000</td> <td>-2935.192</td> <td>-1587.496</td>\n",
       "</tr>\n",
       "<tr>\n",
       "  <th>CovidNeg</th>  <td>    0.2856</td> <td>    0.005</td> <td>   63.137</td> <td> 0.000</td> <td>    0.277</td> <td>    0.294</td>\n",
       "</tr>\n",
       "</table>\n",
       "<table class=\"simpletable\">\n",
       "<tr>\n",
       "  <th>Omnibus:</th>       <td>2388.878</td> <th>  Durbin-Watson:     </th>  <td>   1.978</td> \n",
       "</tr>\n",
       "<tr>\n",
       "  <th>Prob(Omnibus):</th>  <td> 0.000</td>  <th>  Jarque-Bera (JB):  </th> <td>171009.932</td>\n",
       "</tr>\n",
       "<tr>\n",
       "  <th>Skew:</th>           <td> 3.005</td>  <th>  Prob(JB):          </th>  <td>    0.00</td> \n",
       "</tr>\n",
       "<tr>\n",
       "  <th>Kurtosis:</th>       <td>38.651</td>  <th>  Cond. No.          </th>  <td>8.53e+04</td> \n",
       "</tr>\n",
       "</table><br/><br/>Warnings:<br/>[1] Standard Errors assume that the covariance matrix of the errors is correctly specified.<br/>[2] The condition number is large, 8.53e+04. This might indicate that there are<br/>strong multicollinearity or other numerical problems."
      ],
      "text/plain": [
       "<class 'statsmodels.iolib.summary.Summary'>\n",
       "\"\"\"\n",
       "                            OLS Regression Results                            \n",
       "==============================================================================\n",
       "Dep. Variable:               CovidPos   R-squared:                       0.560\n",
       "Model:                            OLS   Adj. R-squared:                  0.559\n",
       "Method:                 Least Squares   F-statistic:                     3986.\n",
       "Date:                Sat, 30 May 2020   Prob (F-statistic):               0.00\n",
       "Time:                        16:58:42   Log-Likelihood:                -35069.\n",
       "No. Observations:                3140   AIC:                         7.014e+04\n",
       "Df Residuals:                    3138   BIC:                         7.015e+04\n",
       "Df Model:                           1                                         \n",
       "Covariance Type:            nonrobust                                         \n",
       "==============================================================================\n",
       "                 coef    std err          t      P>|t|      [0.025      0.975]\n",
       "------------------------------------------------------------------------------\n",
       "Intercept  -2261.3437    343.674     -6.580      0.000   -2935.192   -1587.496\n",
       "CovidNeg       0.2856      0.005     63.137      0.000       0.277       0.294\n",
       "==============================================================================\n",
       "Omnibus:                     2388.878   Durbin-Watson:                   1.978\n",
       "Prob(Omnibus):                  0.000   Jarque-Bera (JB):           171009.932\n",
       "Skew:                           3.005   Prob(JB):                         0.00\n",
       "Kurtosis:                      38.651   Cond. No.                     8.53e+04\n",
       "==============================================================================\n",
       "\n",
       "Warnings:\n",
       "[1] Standard Errors assume that the covariance matrix of the errors is correctly specified.\n",
       "[2] The condition number is large, 8.53e+04. This might indicate that there are\n",
       "strong multicollinearity or other numerical problems.\n",
       "\"\"\""
      ]
     },
     "execution_count": 248,
     "metadata": {},
     "output_type": "execute_result"
    }
   ],
   "source": [
    "model = smf.ols('CovidPos ~ CovidNeg', data=df)\n",
    "results = model.fit()\n",
    "results.summary()"
   ]
  },
  {
   "cell_type": "code",
   "execution_count": 253,
   "metadata": {},
   "outputs": [
    {
     "data": {
      "text/html": [
       "<table class=\"simpletable\">\n",
       "<caption>OLS Regression Results</caption>\n",
       "<tr>\n",
       "  <th>Dep. Variable:</th>        <td>CovidPos</td>     <th>  R-squared:         </th> <td>   0.561</td> \n",
       "</tr>\n",
       "<tr>\n",
       "  <th>Model:</th>                   <td>OLS</td>       <th>  Adj. R-squared:    </th> <td>   0.560</td> \n",
       "</tr>\n",
       "<tr>\n",
       "  <th>Method:</th>             <td>Least Squares</td>  <th>  F-statistic:       </th> <td>   1980.</td> \n",
       "</tr>\n",
       "<tr>\n",
       "  <th>Date:</th>             <td>Sat, 30 May 2020</td> <th>  Prob (F-statistic):</th>  <td>  0.00</td>  \n",
       "</tr>\n",
       "<tr>\n",
       "  <th>Time:</th>                 <td>17:03:21</td>     <th>  Log-Likelihood:    </th> <td> -34712.</td> \n",
       "</tr>\n",
       "<tr>\n",
       "  <th>No. Observations:</th>      <td>  3107</td>      <th>  AIC:               </th> <td>6.943e+04</td>\n",
       "</tr>\n",
       "<tr>\n",
       "  <th>Df Residuals:</th>          <td>  3104</td>      <th>  BIC:               </th> <td>6.945e+04</td>\n",
       "</tr>\n",
       "<tr>\n",
       "  <th>Df Model:</th>              <td>     2</td>      <th>                     </th>     <td> </td>    \n",
       "</tr>\n",
       "<tr>\n",
       "  <th>Covariance Type:</th>      <td>nonrobust</td>    <th>                     </th>     <td> </td>    \n",
       "</tr>\n",
       "</table>\n",
       "<table class=\"simpletable\">\n",
       "<tr>\n",
       "           <td></td>              <th>coef</th>     <th>std err</th>      <th>t</th>      <th>P>|t|</th>  <th>[0.025</th>    <th>0.975]</th>  \n",
       "</tr>\n",
       "<tr>\n",
       "  <th>Intercept</th>           <td>-2209.4563</td> <td>  348.270</td> <td>   -6.344</td> <td> 0.000</td> <td>-2892.319</td> <td>-1526.593</td>\n",
       "</tr>\n",
       "<tr>\n",
       "  <th>CovidNeg</th>            <td>    0.2989</td> <td>    0.006</td> <td>   48.252</td> <td> 0.000</td> <td>    0.287</td> <td>    0.311</td>\n",
       "</tr>\n",
       "<tr>\n",
       "  <th>NegativeIncreasedBy</th> <td>   -0.2857</td> <td>    0.091</td> <td>   -3.133</td> <td> 0.002</td> <td>   -0.465</td> <td>   -0.107</td>\n",
       "</tr>\n",
       "</table>\n",
       "<table class=\"simpletable\">\n",
       "<tr>\n",
       "  <th>Omnibus:</th>       <td>2335.186</td> <th>  Durbin-Watson:     </th>  <td>   1.978</td> \n",
       "</tr>\n",
       "<tr>\n",
       "  <th>Prob(Omnibus):</th>  <td> 0.000</td>  <th>  Jarque-Bera (JB):  </th> <td>163685.685</td>\n",
       "</tr>\n",
       "<tr>\n",
       "  <th>Skew:</th>           <td> 2.952</td>  <th>  Prob(JB):          </th>  <td>    0.00</td> \n",
       "</tr>\n",
       "<tr>\n",
       "  <th>Kurtosis:</th>       <td>38.065</td>  <th>  Cond. No.          </th>  <td>8.62e+04</td> \n",
       "</tr>\n",
       "</table><br/><br/>Warnings:<br/>[1] Standard Errors assume that the covariance matrix of the errors is correctly specified.<br/>[2] The condition number is large, 8.62e+04. This might indicate that there are<br/>strong multicollinearity or other numerical problems."
      ],
      "text/plain": [
       "<class 'statsmodels.iolib.summary.Summary'>\n",
       "\"\"\"\n",
       "                            OLS Regression Results                            \n",
       "==============================================================================\n",
       "Dep. Variable:               CovidPos   R-squared:                       0.561\n",
       "Model:                            OLS   Adj. R-squared:                  0.560\n",
       "Method:                 Least Squares   F-statistic:                     1980.\n",
       "Date:                Sat, 30 May 2020   Prob (F-statistic):               0.00\n",
       "Time:                        17:03:21   Log-Likelihood:                -34712.\n",
       "No. Observations:                3107   AIC:                         6.943e+04\n",
       "Df Residuals:                    3104   BIC:                         6.945e+04\n",
       "Df Model:                           2                                         \n",
       "Covariance Type:            nonrobust                                         \n",
       "=======================================================================================\n",
       "                          coef    std err          t      P>|t|      [0.025      0.975]\n",
       "---------------------------------------------------------------------------------------\n",
       "Intercept           -2209.4563    348.270     -6.344      0.000   -2892.319   -1526.593\n",
       "CovidNeg                0.2989      0.006     48.252      0.000       0.287       0.311\n",
       "NegativeIncreasedBy    -0.2857      0.091     -3.133      0.002      -0.465      -0.107\n",
       "==============================================================================\n",
       "Omnibus:                     2335.186   Durbin-Watson:                   1.978\n",
       "Prob(Omnibus):                  0.000   Jarque-Bera (JB):           163685.685\n",
       "Skew:                           2.952   Prob(JB):                         0.00\n",
       "Kurtosis:                      38.065   Cond. No.                     8.62e+04\n",
       "==============================================================================\n",
       "\n",
       "Warnings:\n",
       "[1] Standard Errors assume that the covariance matrix of the errors is correctly specified.\n",
       "[2] The condition number is large, 8.62e+04. This might indicate that there are\n",
       "strong multicollinearity or other numerical problems.\n",
       "\"\"\""
      ]
     },
     "execution_count": 253,
     "metadata": {},
     "output_type": "execute_result"
    }
   ],
   "source": [
    "\n",
    "\n",
    "model = smf.ols('CovidPos ~ CovidNeg + NegativeIncreasedBy', data=df)\n",
    "results = model.fit()\n",
    "results.summary()"
   ]
  },
  {
   "cell_type": "markdown",
   "metadata": {},
   "source": [
    "## Summary\n",
    "\n",
    "### A 250-500-word paper summarizing the following:\n",
    "\n",
    "Statistical/Hypothetical Question\n",
    "\n",
    "Outcome of your EDA\n",
    "\n",
    "What do you feel was missed during the analysis?\n",
    "\n",
    "Were there any variables you felt could have helped in the analysis?\n",
    "\n",
    "Were there any assumptions made you felt were incorrect?\n",
    "\n",
    "What challenges did you face, what did you not fully understand?\n",
    "\n",
    "Submit a link to your repository to the assignment link during the final week of class."
   ]
  },
  {
   "cell_type": "markdown",
   "metadata": {},
   "source": [
    "I wanted to see if there was any relationship between Covid Positive results or Covid Negative results. More specifically I wanted to see if CA and NY had any relationship between how many of each positive and negative results. I did think that since the epidemic is likely similarly affecting both California and New York due to them both being heavily traveled through as well as highly populated states. Because I couldn’t figure out how to do the regression analysis on only the CA and NY data, I had to settle with just comparing Covid positive and negative results for all states. One variable that would be useful is the total population for each state. I’m not sure if my assumption to keep the data that is zero which heavily skews the histograms to the left was a good idea, but my justification is that the data that is reported as zero each day is equally as valuable as any day that the reports are not zero.\n",
    "\n",
    "I couldn't get the Hypothesis Test to result in anything other than zero, so I wasn't able to properly test my hypothesis. I followed the code in the book so ideally it should have worked, but no matter how I tried to enter in differently coded data it still always resulted in zero. "
   ]
  },
  {
   "cell_type": "code",
   "execution_count": null,
   "metadata": {},
   "outputs": [],
   "source": []
  }
 ],
 "metadata": {
  "kernelspec": {
   "display_name": "Python 3",
   "language": "python",
   "name": "python3"
  },
  "language_info": {
   "codemirror_mode": {
    "name": "ipython",
    "version": 3
   },
   "file_extension": ".py",
   "mimetype": "text/x-python",
   "name": "python",
   "nbconvert_exporter": "python",
   "pygments_lexer": "ipython3",
   "version": "3.7.6"
  }
 },
 "nbformat": 4,
 "nbformat_minor": 4
}
